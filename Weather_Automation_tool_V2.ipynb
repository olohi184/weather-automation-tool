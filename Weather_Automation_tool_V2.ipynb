{
  "nbformat": 4,
  "nbformat_minor": 0,
  "metadata": {
    "colab": {
      "provenance": []
    },
    "kernelspec": {
      "name": "python3",
      "display_name": "Python 3"
    },
    "language_info": {
      "name": "python"
    }
  },
  "cells": [
    {
      "cell_type": "code",
      "execution_count": null,
      "metadata": {
        "colab": {
          "base_uri": "https://localhost:8080/"
        },
        "id": "lh3lt5cYKS9S",
        "outputId": "3aeb0583-e378-42d7-fc2e-0e1a029106a1"
      },
      "outputs": [
        {
          "output_type": "stream",
          "name": "stdout",
          "text": [
            "🌦️ Weather Automation Tool (V2 - Live API)\n",
            "Enter a city name: KEFFI\n",
            "\n",
            "Weather Report for KEFFI:\n",
            "Temperature: 26.72°C\n",
            "Condition: Overcast Clouds\n",
            "Humidity: 75%\n"
          ]
        }
      ],
      "source": [
        "# weather_tool_v2.py\n",
        "# Weather Automation Tool (Version 2 - Live Weather API)\n",
        "\n",
        "import requests\n",
        "\n",
        "API_KEY = \"040ab350086be1fa151fb2fe834065b8\"  # replace with your OpenWeatherMap key\n",
        "BASE_URL = \"https://api.openweathermap.org/data/2.5/weather\"\n",
        "\n",
        "def get_weather(city):\n",
        "    params = {\n",
        "        \"q\": city,\n",
        "        \"appid\": API_KEY,\n",
        "        \"units\": \"metric\"  # for Celsius\n",
        "    }\n",
        "    response = requests.get(BASE_URL, params=params)\n",
        "\n",
        "    if response.status_code == 200:\n",
        "        data = response.json()\n",
        "        weather = {\n",
        "            \"temperature\": data[\"main\"][\"temp\"],\n",
        "            \"condition\": data[\"weather\"][0][\"description\"].title(),\n",
        "            \"humidity\": data[\"main\"][\"humidity\"]\n",
        "        }\n",
        "        return weather\n",
        "    else:\n",
        "        return None\n",
        "\n",
        "def main():\n",
        "    print(\"🌦️ Weather Automation Tool (V2 - Live API)\")\n",
        "    city = input(\"Enter a city name: \")\n",
        "\n",
        "    weather = get_weather(city)\n",
        "\n",
        "    if weather:\n",
        "        print(f\"\\nWeather Report for {city}:\")\n",
        "        print(f\"Temperature: {weather['temperature']}°C\")\n",
        "        print(f\"Condition: {weather['condition']}\")\n",
        "        print(f\"Humidity: {weather['humidity']}%\")\n",
        "    else:\n",
        "        print(\"⚠️ Could not fetch weather data. Please check the city name or try again later.\")\n",
        "\n",
        "if __name__ == \"__main__\":\n",
        "    main()\n"
      ]
    }
  ]
}